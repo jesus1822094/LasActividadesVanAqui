{
  "nbformat": 4,
  "nbformat_minor": 0,
  "metadata": {
    "colab": {
      "name": "IA_Ejercicio1_JesusEladio_1822094",
      "provenance": []
    },
    "kernelspec": {
      "name": "python3",
      "display_name": "Python 3"
    },
    "language_info": {
      "name": "python"
    }
  },
  "cells": [
    {
      "cell_type": "markdown",
      "source": [
        "A2: Ejercicios Básicos en Python\n",
        "\n",
        "Nombre: Jesus Eladio Gonzalez Bravo\n",
        "\n",
        "Matricula: 1822094\n",
        "\n",
        "Hora clase: N1-N3 (sabatinos)"
      ],
      "metadata": {
        "id": "092lXCCMa7dQ"
      }
    },
    {
      "cell_type": "markdown",
      "source": [
        "Escribe un programa que le pida al usuario por su nombre y que lo salude con su nombre, excepto si se llama “Ana”, “Juan”, y “Pedro”.\n",
        "\n"
      ],
      "metadata": {
        "id": "QkXAjZeofE0b"
      }
    },
    {
      "cell_type": "code",
      "execution_count": 5,
      "metadata": {
        "colab": {
          "base_uri": "https://localhost:8080/"
        },
        "id": "d-KMievaF1CR",
        "outputId": "584f8c6b-0dba-445c-ce82-656de53b616e"
      },
      "outputs": [
        {
          "output_type": "stream",
          "name": "stdout",
          "text": [
            "introdusca su nombre ana\n",
            "nombre no valido\n",
            "introdusca su nombre juan\n",
            "nombre no valido\n",
            "introdusca su nombre pedro\n",
            "nombre no valido\n",
            "introdusca su nombre jesus\n",
            "hola  jesus\n"
          ]
        }
      ],
      "source": [
        "nom = input(\"introdusca su nombre \")# se introduce el nombre\n",
        "while nom ==\"Ana\" or nom == \"Pedro\" or nom == \"Juan\" or nom ==\"ana\" or nom == \"pedro\" or nom == \"juan\":# bucle while \n",
        "  print(\"nombre no valido\")# si ingese una palabra del bucle maraca error\n",
        "  nom = input(\"introdusca su nombre \")\n",
        "print(\"hola \",nom)# imprime el nombre si no cumple con el bucle \n"
      ]
    }
  ]
}