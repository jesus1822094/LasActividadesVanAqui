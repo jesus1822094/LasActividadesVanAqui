{
  "nbformat": 4,
  "nbformat_minor": 0,
  "metadata": {
    "colab": {
      "name": "IA_Ejercicio2_JesusEladio_1822094",
      "provenance": [],
      "collapsed_sections": []
    },
    "kernelspec": {
      "name": "python3",
      "display_name": "Python 3"
    },
    "language_info": {
      "name": "python"
    }
  },
  "cells": [
    {
      "cell_type": "markdown",
      "source": [
        "A2: Ejercicios Básicos en Python\n",
        "\n",
        "Nombre: Jesus Eladio Gonzalez Bravo\n",
        "\n",
        "Matricula: 1822094\n",
        "\n",
        "Hora clase: N1-N3 (sabatinos)"
      ],
      "metadata": {
        "id": "X3hkrRNAe4tz"
      }
    },
    {
      "cell_type": "markdown",
      "source": [
        "Escribe una función que regrese el último elemento de una lista y que revierta el orden de la lista e imprima la lista revertida.\n",
        "\n"
      ],
      "metadata": {
        "id": "20zaxdmve7N4"
      }
    },
    {
      "cell_type": "code",
      "source": [
        "def capturar ():# se captura la lista \n",
        "  global lista# lista donde esta aseptados todos los caracteres\n",
        "  lista=[]\n",
        "  print(\"¿cuantos elementos quieres en tu lista?\")\n",
        "  n=input()\n",
        "  n=int(n)\n",
        "  print(\"ingresa una lista: \")\n",
        "  for i in range(0,n):# bucle for \n",
        "    elemento=input()\n",
        "    lista.insert(i,elemento)\n",
        "def mostrar():# se muestra la lista\n",
        "  print(lista)\n",
        "\n",
        "capturar()\n",
        "mostrar()\n"
      ],
      "metadata": {
        "colab": {
          "base_uri": "https://localhost:8080/"
        },
        "id": "UoKBhFEDioDD",
        "outputId": "d330224a-d8e0-40e7-f1c5-5a8a92a7c0d8"
      },
      "execution_count": 38,
      "outputs": [
        {
          "output_type": "stream",
          "name": "stdout",
          "text": [
            "¿cuantos elementos quieres en tu lista?\n",
            "4\n",
            "ingresa una lista: \n",
            "leche\n",
            "pan\n",
            "huevo\n",
            "frijoles\n",
            "['leche', 'pan', 'huevo', 'frijoles']\n"
          ]
        }
      ]
    },
    {
      "cell_type": "code",
      "source": [
        "def invertir_lista(lista):\n",
        "  if lista == []:# se cra la condicion para cuando llegue a la lista vacia termina el resultado\n",
        "    inversa = lista\n",
        "  else: # si el caso es falso se va  a la siguente condicion\n",
        "    inversa = [lista[-1]] + invertir_lista(lista[:-1])# formula para invertir la lista \n",
        "  return inversa\n",
        "print(invertir_lista(lista))"
      ],
      "metadata": {
        "colab": {
          "base_uri": "https://localhost:8080/"
        },
        "id": "0xxW-KjvTaH1",
        "outputId": "280b6cc1-3b65-4731-e82b-adddf3c43cb4"
      },
      "execution_count": 39,
      "outputs": [
        {
          "output_type": "stream",
          "name": "stdout",
          "text": [
            "['frijoles', 'huevo', 'pan', 'leche']\n"
          ]
        }
      ]
    }
  ]
}